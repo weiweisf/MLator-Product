{
 "cells": [
  {
   "cell_type": "code",
   "execution_count": 2,
   "metadata": {
    "ExecuteTime": {
     "end_time": "2019-04-11T20:20:55.951359Z",
     "start_time": "2019-04-11T20:20:55.858556Z"
    }
   },
   "outputs": [],
   "source": [
    "import paramiko\n",
    "from os.path import expanduser\n",
    "from user_definition import *\n",
    "import warnings\n",
    "warnings.filterwarnings(\"ignore\")"
   ]
  },
  {
   "cell_type": "code",
   "execution_count": 3,
   "metadata": {
    "ExecuteTime": {
     "end_time": "2019-04-11T20:20:56.048713Z",
     "start_time": "2019-04-11T20:20:56.044884Z"
    }
   },
   "outputs": [],
   "source": [
    "def ssh_client():\n",
    "    \"\"\"Return ssh client object\"\"\"\n",
    "    return paramiko.SSHClient()"
   ]
  },
  {
   "cell_type": "code",
   "execution_count": 4,
   "metadata": {
    "ExecuteTime": {
     "end_time": "2019-04-11T20:20:56.212335Z",
     "start_time": "2019-04-11T20:20:56.209423Z"
    }
   },
   "outputs": [],
   "source": [
    "ssh = ssh_client()"
   ]
  },
  {
   "cell_type": "code",
   "execution_count": 6,
   "metadata": {
    "ExecuteTime": {
     "end_time": "2019-04-11T20:21:02.872046Z",
     "start_time": "2019-04-11T20:21:02.868686Z"
    }
   },
   "outputs": [],
   "source": [
    "def ssh_connection(ssh, ec2_address, user, key_file):\n",
    "    \"\"\"Login via SSH to the server\"\"\"\n",
    "    ssh.set_missing_host_key_policy(paramiko.AutoAddPolicy())\n",
    "    ssh.connect(ec2_address, username=user,\n",
    "                key_filename=expanduser(\"~\") + key_file)\n",
    "    return ssh"
   ]
  },
  {
   "cell_type": "code",
   "execution_count": 5,
   "metadata": {
    "ExecuteTime": {
     "end_time": "2019-04-11T18:09:06.931803Z",
     "start_time": "2019-04-11T18:09:06.927703Z"
    }
   },
   "outputs": [],
   "source": [
    "def create_or_update_environment(ssh):\n",
    "    \"\"\"\n",
    "    create the environment with the environment.yml file,\n",
    "    update the environment if the environment already exists\n",
    "    \"\"\"\n",
    "    stdin, stdout, stderr = \\\n",
    "        ssh.exec_command(\"conda env create -f ~/\" + git_repo_name +\n",
    "                         \"/environment.yml\")\n",
    "    if (b'already exists' in stderr.read()):\n",
    "        stdin, stdout, stderr = \\\n",
    "            ssh.exec_command(\"conda env update -f ~/\" + git_repo_name +\n",
    "                             \"/environment.yml\")"
   ]
  },
  {
   "cell_type": "code",
   "execution_count": 6,
   "metadata": {
    "ExecuteTime": {
     "end_time": "2019-04-11T18:09:08.137387Z",
     "start_time": "2019-04-11T18:09:08.133105Z"
    }
   },
   "outputs": [],
   "source": [
    "def git_clone(ssh):\n",
    "    \"\"\"\n",
    "    clone the repository from github repo to the server\n",
    "    \"\"\"\n",
    "    stdin, stdout, stderr = ssh.exec_command(\"git --version\")\n",
    "    if (b\"\" is stderr.read()):\n",
    "        ssh.exec_command('rm -rf ' + git_repo_name)\n",
    "        git_clone_command = \"git clone https://github.com/\" + \\\n",
    "                            git_repo_owner + \"/\" + git_repo_name + \".git \"\n",
    "        stdin, stdout, stderr = ssh.exec_command(git_clone_command)\n",
    "        if(b\"already exists\" in stderr.read()):\n",
    "            git_pull_command = \"cd \" + git_repo_name + \";\" + \"git pull\"\n",
    "            stdin, stdout, stderr = ssh.exec_command(git_pull_command)"
   ]
  },
  {
   "cell_type": "code",
   "execution_count": 1,
   "metadata": {
    "ExecuteTime": {
     "end_time": "2019-04-11T20:20:52.988232Z",
     "start_time": "2019-04-11T20:20:52.983626Z"
    }
   },
   "outputs": [],
   "source": [
    "def run_server(ssh):\n",
    "    \"\"\"\n",
    "    run the web server, connect the frontend and the backend\n",
    "    \"\"\"\n",
    "    stdin, stdout, stderr = ssh.exec_command(\"~/.conda/envs/MSDS603/bin/python product-analytics-group7/server/server.py\")\n",
    "    print(stdout.read())"
   ]
  },
  {
   "cell_type": "code",
   "execution_count": 7,
   "metadata": {
    "ExecuteTime": {
     "end_time": "2019-04-11T20:21:05.389197Z",
     "start_time": "2019-04-11T20:21:04.625171Z"
    }
   },
   "outputs": [
    {
     "data": {
      "text/plain": [
       "<paramiko.client.SSHClient at 0x10dff61d0>"
      ]
     },
     "execution_count": 7,
     "metadata": {},
     "output_type": "execute_result"
    }
   ],
   "source": [
    "ssh_connection(ssh, ec2_address, user, key_file)"
   ]
  },
  {
   "cell_type": "code",
   "execution_count": 9,
   "metadata": {
    "ExecuteTime": {
     "end_time": "2019-04-11T18:09:12.237768Z",
     "start_time": "2019-04-11T18:09:10.900085Z"
    }
   },
   "outputs": [],
   "source": [
    "git_clone(ssh)"
   ]
  },
  {
   "cell_type": "code",
   "execution_count": 10,
   "metadata": {
    "ExecuteTime": {
     "end_time": "2019-04-11T18:09:15.692180Z",
     "start_time": "2019-04-11T18:09:13.996847Z"
    }
   },
   "outputs": [],
   "source": [
    "create_or_update_environment(ssh)"
   ]
  },
  {
   "cell_type": "code",
   "execution_count": 8,
   "metadata": {
    "ExecuteTime": {
     "end_time": "2019-04-11T20:21:11.565452Z",
     "start_time": "2019-04-11T20:21:11.213600Z"
    }
   },
   "outputs": [
    {
     "name": "stdout",
     "output_type": "stream",
     "text": [
      "b''\n"
     ]
    }
   ],
   "source": [
    "run_server(ssh)"
   ]
  },
  {
   "cell_type": "code",
   "execution_count": 15,
   "metadata": {
    "ExecuteTime": {
     "end_time": "2019-04-11T17:58:41.983904Z",
     "start_time": "2019-04-11T17:58:41.977412Z"
    }
   },
   "outputs": [
    {
     "data": {
      "text/plain": [
       "'cd product-analytics-group7/server'"
      ]
     },
     "execution_count": 15,
     "metadata": {},
     "output_type": "execute_result"
    }
   ],
   "source": [
    "\"cd \" + git_repo_name + \"/server\""
   ]
  },
  {
   "cell_type": "code",
   "execution_count": 20,
   "metadata": {
    "ExecuteTime": {
     "end_time": "2019-04-11T18:00:32.758171Z",
     "start_time": "2019-04-11T18:00:32.590470Z"
    }
   },
   "outputs": [],
   "source": [
    "stdin, stdout, stderr =ssh.exec_command(\"cd \" + git_repo_name + \"/server\")"
   ]
  },
  {
   "cell_type": "code",
   "execution_count": 21,
   "metadata": {
    "ExecuteTime": {
     "end_time": "2019-04-11T18:00:33.255688Z",
     "start_time": "2019-04-11T18:00:33.251388Z"
    }
   },
   "outputs": [
    {
     "data": {
      "text/plain": [
       "b''"
      ]
     },
     "execution_count": 21,
     "metadata": {},
     "output_type": "execute_result"
    }
   ],
   "source": [
    "stderr.read()"
   ]
  },
  {
   "cell_type": "code",
   "execution_count": 17,
   "metadata": {
    "ExecuteTime": {
     "end_time": "2019-04-11T18:47:07.580200Z",
     "start_time": "2019-04-11T18:47:07.419853Z"
    }
   },
   "outputs": [],
   "source": [
    "stdin, stdout, stderr = ssh.exec_command(\"~/.conda/envs/MSDS603/bin/python product-analytics-group7/server/server.py\")"
   ]
  },
  {
   "cell_type": "code",
   "execution_count": 16,
   "metadata": {
    "ExecuteTime": {
     "end_time": "2019-04-11T18:46:43.273030Z",
     "start_time": "2019-04-11T18:46:29.067988Z"
    }
   },
   "outputs": [
    {
     "data": {
      "text/plain": [
       "b' * Serving Flask app \"server\" (lazy loading)\\n * Environment: production\\n   WARNING: Do not use the development server in a production environment.\\n   Use a production WSGI server instead.\\n * Debug mode: on\\n'"
      ]
     },
     "execution_count": 16,
     "metadata": {},
     "output_type": "execute_result"
    }
   ],
   "source": [
    "stdout.read()"
   ]
  },
  {
   "cell_type": "code",
   "execution_count": 40,
   "metadata": {
    "ExecuteTime": {
     "end_time": "2019-04-10T23:13:04.543990Z",
     "start_time": "2019-04-10T23:13:04.540994Z"
    }
   },
   "outputs": [],
   "source": [
    "ssh.close()"
   ]
  },
  {
   "cell_type": "code",
   "execution_count": 39,
   "metadata": {
    "ExecuteTime": {
     "end_time": "2019-04-10T23:13:02.051151Z",
     "start_time": "2019-04-10T23:13:02.046122Z"
    }
   },
   "outputs": [
    {
     "data": {
      "text/plain": [
       "<paramiko.client.SSHClient at 0x107526898>"
      ]
     },
     "execution_count": 39,
     "metadata": {},
     "output_type": "execute_result"
    }
   ],
   "source": [
    "ssh"
   ]
  },
  {
   "cell_type": "code",
   "execution_count": null,
   "metadata": {},
   "outputs": [],
   "source": []
  }
 ],
 "metadata": {
  "kernelspec": {
   "display_name": "Python 3",
   "language": "python",
   "name": "python3"
  },
  "language_info": {
   "codemirror_mode": {
    "name": "ipython",
    "version": 3
   },
   "file_extension": ".py",
   "mimetype": "text/x-python",
   "name": "python",
   "nbconvert_exporter": "python",
   "pygments_lexer": "ipython3",
   "version": "3.6.8"
  }
 },
 "nbformat": 4,
 "nbformat_minor": 2
}
